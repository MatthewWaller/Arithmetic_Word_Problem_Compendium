{
 "cells": [
  {
   "cell_type": "markdown",
   "id": "c75e0c9e",
   "metadata": {},
   "source": [
    "# Arithmetic Word Problem Compendium - Dataset Exploration\n",
    "\n",
    "This notebook demonstrates how to work with the Arithmetic Word Problem Compendium dataset, exploring its structure and analyzing the problems it contains.\n",
    "\n",
    "## Setup\n",
    "\n",
    "First, let's install the required dependencies:"
   ]
  },
  {
   "cell_type": "code",
   "execution_count": null,
   "id": "660b3e84",
   "metadata": {},
   "outputs": [],
   "source": [
    "!pip install pandas numpy matplotlib seaborn"
   ]
  },
  {
   "cell_type": "markdown",
   "id": "97a236df",
   "metadata": {},
   "source": [
    "## Import Dependencies"
   ]
  },
  {
   "cell_type": "code",
   "execution_count": null,
   "id": "9dc9b567",
   "metadata": {},
   "outputs": [],
   "source": [
    "import json\n",
    "import pandas as pd\n",
    "import numpy as np\n",
    "import matplotlib.pyplot as plt\n",
    "import seaborn as sns\n",
    "from collections import Counter\n",
    "\n",
    "# Set style for better visualizations\n",
    "plt.style.use('seaborn')\n",
    "sns.set_palette(\"husl\")"
   ]
  },
  {
   "cell_type": "markdown",
   "id": "10c53faa",
   "metadata": {},
   "source": [
    "## Load and Prepare Data\n",
    "\n",
    "Let's load both the training and evaluation datasets:"
   ]
  },
  {
   "cell_type": "code",
   "execution_count": null,
   "id": "e32dac5c",
   "metadata": {},
   "outputs": [],
   "source": [
    "def load_jsonl(file_path):\n",
    "    \"\"\"Load JSONL file into a list of dictionaries.\"\"\"\n",
    "    with open(file_path, 'r', encoding='utf-8') as f:\n",
    "        return [json.loads(line) for line in f]\n",
    "\n",
    "# Load both training and evaluation datasets\n",
    "train_data = load_jsonl('/kaggle/input/arithmetic-word-problem-compendium/sample_train.jsonl')\n",
    "eval_data = load_jsonl('/kaggle/input/arithmetic-word-problem-compendium/sample_eval.jsonl')\n",
    "\n",
    "# Convert to pandas DataFrames\n",
    "train_df = pd.DataFrame(train_data)\n",
    "eval_df = pd.DataFrame(eval_data)\n",
    "\n",
    "print(f\"Training set size: {len(train_df)}\")\n",
    "print(f\"Evaluation set size: {len(eval_df)}\")"
   ]
  },
  {
   "cell_type": "markdown",
   "id": "1ce394c7",
   "metadata": {},
   "source": [
    "## Dataset Overview\n",
    "\n",
    "Let's examine the structure and contents of our dataset:"
   ]
  },
  {
   "cell_type": "code",
   "execution_count": null,
   "id": "58722a65",
   "metadata": {},
   "outputs": [],
   "source": [
    "# Display basic information about the training dataset\n",
    "print(\"Training Dataset Info:\")\n",
    "train_df.info()\n",
    "\n",
    "# Display first few examples\n",
    "print(\"\n",
    "First few examples:\")\n",
    "pd.set_option('display.max_colwidth', None)\n",
    "display(train_df.head(2))"
   ]
  },
  {
   "cell_type": "markdown",
   "id": "33b8df23",
   "metadata": {},
   "source": [
    "## Analyzing Problem Domains\n",
    "\n",
    "Let's visualize the distribution of problems across different domains:"
   ]
  },
  {
   "cell_type": "code",
   "execution_count": null,
   "id": "478b1092",
   "metadata": {},
   "outputs": [],
   "source": [
    "plt.figure(figsize=(12, 6))\n",
    "domain_counts = train_df['metadata'].apply(lambda x: x['domain']).value_counts()\n",
    "sns.barplot(x=domain_counts.values, y=domain_counts.index)\n",
    "plt.title('Distribution of Problem Domains')\n",
    "plt.xlabel('Number of Problems')\n",
    "plt.tight_layout()\n",
    "plt.show()\n",
    "\n",
    "# Print exact counts\n",
    "print(\"\n",
    "Domain Distribution:\")\n",
    "for domain, count in domain_counts.items():\n",
    "    print(f\"{domain}: {count} problems\")"
   ]
  },
  {
   "cell_type": "markdown",
   "id": "693d7392",
   "metadata": {},
   "source": [
    "## Analyzing Mathematical Operations\n",
    "\n",
    "Let's examine the types of mathematical operations used in the problems:"
   ]
  },
  {
   "cell_type": "code",
   "execution_count": null,
   "id": "f6cad97d",
   "metadata": {},
   "outputs": [],
   "source": [
    "def get_operators(metadata):\n",
    "    return metadata['operators']\n",
    "\n",
    "# Collect all operators\n",
    "all_operators = [op for meta in train_df['metadata'] for op in get_operators(meta)]\n",
    "operator_counts = Counter(all_operators)\n",
    "\n",
    "plt.figure(figsize=(10, 6))\n",
    "sns.barplot(x=list(operator_counts.values()), y=list(operator_counts.keys()))\n",
    "plt.title('Distribution of Mathematical Operations')\n",
    "plt.xlabel('Number of Occurrences')\n",
    "plt.tight_layout()\n",
    "plt.show()\n",
    "\n",
    "# Print exact counts\n",
    "print(\"\n",
    "Operation Distribution:\")\n",
    "for op, count in operator_counts.most_common():\n",
    "    print(f\"{op}: {count} occurrences\")"
   ]
  },
  {
   "cell_type": "markdown",
   "id": "f4cdd529",
   "metadata": {},
   "source": [
    "## Example Problems\n",
    "\n",
    "Let's look at some example problems from different domains:"
   ]
  },
  {
   "cell_type": "code",
   "execution_count": null,
   "id": "2f53cb0c",
   "metadata": {},
   "outputs": [],
   "source": [
    "def display_problem(problem):\n",
    "    print(f\"Domain: {problem['metadata']['domain']}\")\n",
    "    print(f\"Question: {problem['question']}\")\n",
    "    print(f\"Operations: {', '.join(problem['metadata']['operators'])}\")\n",
    "    print(f\"Solution: {problem['metadata']['solution']}\")\n",
    "    print(\"-\" * 80)\n",
    "\n",
    "# Display one example from each domain\n",
    "domains = set(train_df['metadata'].apply(lambda x: x['domain']))\n",
    "for domain in sorted(domains):\n",
    "    example = train_df[train_df['metadata'].apply(lambda x: x['domain'] == domain)].iloc[0]\n",
    "    display_problem(example)"
   ]
  },
  {
   "cell_type": "markdown",
   "id": "a96839be",
   "metadata": {},
   "source": [
    "## Analyzing Problem Complexity\n",
    "\n",
    "Let's analyze the complexity of problems based on the number of operations required:"
   ]
  },
  {
   "cell_type": "code",
   "execution_count": null,
   "id": "9b0c802c",
   "metadata": {},
   "outputs": [],
   "source": [
    "operation_counts = train_df['metadata'].apply(lambda x: len(x['operators']))\n",
    "\n",
    "plt.figure(figsize=(10, 6))\n",
    "sns.histplot(operation_counts, bins=range(1, max(operation_counts) + 2))\n",
    "plt.title('Distribution of Number of Operations per Problem')\n",
    "plt.xlabel('Number of Operations')\n",
    "plt.ylabel('Count')\n",
    "plt.tight_layout()\n",
    "plt.show()\n",
    "\n",
    "# Print summary statistics\n",
    "print(\"\n",
    "Operation Count Statistics:\")\n",
    "print(operation_counts.describe())"
   ]
  },
  {
   "cell_type": "markdown",
   "id": "cef2cb57",
   "metadata": {},
   "source": [
    "## Analyzing Decimal Precision\n",
    "\n",
    "Let's examine the distribution of decimal places in the problems:"
   ]
  },
  {
   "cell_type": "code",
   "execution_count": null,
   "id": "5cf945a0",
   "metadata": {},
   "outputs": [],
   "source": [
    "decimal_places = train_df['metadata'].apply(lambda x: x['decimals'])\n",
    "\n",
    "plt.figure(figsize=(10, 6))\n",
    "sns.histplot(decimal_places, bins=range(0, max(decimal_places) + 2))\n",
    "plt.title('Distribution of Decimal Places in Solutions')\n",
    "plt.xlabel('Number of Decimal Places')\n",
    "plt.ylabel('Count')\n",
    "plt.tight_layout()\n",
    "plt.show()\n",
    "\n",
    "# Print summary statistics\n",
    "print(\"\n",
    "Decimal Places Statistics:\")\n",
    "print(decimal_places.describe())"
   ]
  },
  {
   "cell_type": "markdown",
   "id": "df25f98d",
   "metadata": {},
   "source": [
    "## Cross-Domain Analysis\n",
    "\n",
    "Let's analyze how problem complexity varies across different domains:"
   ]
  },
  {
   "cell_type": "code",
   "execution_count": null,
   "id": "3c453a9c",
   "metadata": {},
   "outputs": [],
   "source": [
    "# Create a DataFrame with domain and operation count\n",
    "domain_complexity = pd.DataFrame({\n",
    "    'domain': train_df['metadata'].apply(lambda x: x['domain']),\n",
    "    'num_operations': train_df['metadata'].apply(lambda x: len(x['operators'])),\n",
    "    'decimal_places': train_df['metadata'].apply(lambda x: x['decimals'])\n",
    "})\n",
    "\n",
    "plt.figure(figsize=(12, 6))\n",
    "sns.boxplot(data=domain_complexity, x='domain', y='num_operations')\n",
    "plt.title('Number of Operations by Domain')\n",
    "plt.xticks(rotation=45)\n",
    "plt.tight_layout()\n",
    "plt.show()\n",
    "\n",
    "# Print summary statistics by domain\n",
    "print(\"\n",
    "Complexity by Domain:\")\n",
    "print(domain_complexity.groupby('domain')['num_operations'].describe())"
   ]
  },
  {
   "cell_type": "markdown",
   "id": "663a560c",
   "metadata": {},
   "source": [
    "## Working with the Dataset\n",
    "\n",
    "Here's a complete example of how to load and process problems from the dataset:"
   ]
  },
  {
   "cell_type": "code",
   "execution_count": null,
   "id": "cf2ee682",
   "metadata": {},
   "outputs": [],
   "source": [
    "def process_problem(problem):\n",
    "    \"\"\"Example function to process a single problem.\"\"\"\n",
    "    return {\n",
    "        'domain': problem['metadata']['domain'],\n",
    "        'num_operations': len(problem['metadata']['operators']),\n",
    "        'has_decimals': problem['metadata']['decimals'] > 0,\n",
    "        'question_length': len(problem['question'].split()),\n",
    "        'solution': problem['metadata']['solution']\n",
    "    }\n",
    "\n",
    "# Process all problems\n",
    "processed_problems = [process_problem(problem) for problem in train_data[:5]]\n",
    "processed_df = pd.DataFrame(processed_problems)\n",
    "\n",
    "print(\"Example of processed problems:\")\n",
    "display(processed_df)"
   ]
  }
 ],
 "metadata": {
  "kernelspec": {
   "display_name": "Python 3",
   "language": "python",
   "name": "python3"
  },
  "language_info": {
   "codemirror_mode": {
    "name": "ipython",
    "version": 3
   },
   "file_extension": ".py",
   "mimetype": "text/x-python",
   "name": "python",
   "nbconvert_exporter": "python",
   "pygments_lexer": "ipython3",
   "version": "3.8.0"
  }
 },
 "nbformat": 4,
 "nbformat_minor": 5
}
